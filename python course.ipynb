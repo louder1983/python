{
 "cells": [
  {
   "cell_type": "code",
   "execution_count": 1,
   "metadata": {},
   "outputs": [
    {
     "data": {
      "text/plain": [
       "[1, 3, True, 65]"
      ]
     },
     "execution_count": 1,
     "metadata": {},
     "output_type": "execute_result"
    }
   ],
   "source": [
    "[1,3,True,65]"
   ]
  },
  {
   "cell_type": "code",
   "execution_count": 3,
   "metadata": {
    "collapsed": true
   },
   "outputs": [],
   "source": [
    "myList = [1,3,True,6.5]"
   ]
  },
  {
   "cell_type": "code",
   "execution_count": 4,
   "metadata": {},
   "outputs": [
    {
     "data": {
      "text/plain": [
       "[1, 3, True, 6.5]"
      ]
     },
     "execution_count": 4,
     "metadata": {},
     "output_type": "execute_result"
    }
   ],
   "source": [
    "myList"
   ]
  },
  {
   "cell_type": "code",
   "execution_count": 12,
   "metadata": {},
   "outputs": [
    {
     "data": {
      "text/plain": [
       "'Yeming Zhu'"
      ]
     },
     "execution_count": 12,
     "metadata": {},
     "output_type": "execute_result"
    }
   ],
   "source": [
    "myName = \"Yeming Zhu\"\n",
    "myName"
   ]
  },
  {
   "cell_type": "code",
   "execution_count": 13,
   "metadata": {},
   "outputs": [
    {
     "data": {
      "text/plain": [
       "'Yeming Zhu'"
      ]
     },
     "execution_count": 13,
     "metadata": {},
     "output_type": "execute_result"
    }
   ],
   "source": [
    "myName.ljust(2)"
   ]
  },
  {
   "cell_type": "code",
   "execution_count": 16,
   "metadata": {},
   "outputs": [
    {
     "name": "stdout",
     "output_type": "stream",
     "text": [
      "Please enter the radius of the circle2153.574\n",
      "2153.574\n",
      "4307.148\n"
     ]
    }
   ],
   "source": [
    "sradius = input(\"Please enter the radius of the circle\")\n",
    "radius = float(sradius)\n",
    "diameter = 2*radius\n",
    "print(radius)\n",
    "print(diameter)"
   ]
  },
  {
   "cell_type": "code",
   "execution_count": 19,
   "metadata": {},
   "outputs": [],
   "source": [
    "def squareroot(n):\n",
    "    root = n/2\n",
    "    for k in range(20):\n",
    "        root = (1/2)*(root + (n/root))\n",
    "    \n",
    "    return root"
   ]
  },
  {
   "cell_type": "code",
   "execution_count": 20,
   "metadata": {},
   "outputs": [
    {
     "data": {
      "text/plain": [
       "3.0"
      ]
     },
     "execution_count": 20,
     "metadata": {},
     "output_type": "execute_result"
    }
   ],
   "source": [
    "squareroot(9)"
   ]
  },
  {
   "cell_type": "code",
   "execution_count": 21,
   "metadata": {},
   "outputs": [
    {
     "data": {
      "text/plain": [
       "65.97726881282674"
      ]
     },
     "execution_count": 21,
     "metadata": {},
     "output_type": "execute_result"
    }
   ],
   "source": [
    "squareroot(4353)"
   ]
  },
  {
   "cell_type": "code",
   "execution_count": 45,
   "metadata": {
    "collapsed": true
   },
   "outputs": [],
   "source": [
    "class Fraction:\n",
    "    def __init__(self, top, bottom):\n",
    "        self.num = top\n",
    "        self.den = bottom\n",
    "    \n",
    "    def show(self):\n",
    "        print(self.num, \"/\", self.den)\n",
    "        \n",
    "    def __str__(self):\n",
    "        return str(self.num)+\"/\"+str(self.den)\n",
    "    \n",
    "    def __add__(self, otherfraction):\n",
    "        newnum = self.num*otherfraction.den + self.den*otherfraction.num\n",
    "        newden = self.den*otherfraction.den\n",
    "        common = gcd(newnum, newden)\n",
    "        return Fraction(newnum//common, newden//common)\n",
    "    \n",
    "    def __eq__(self, other):\n",
    "        firstnum = self.num * other.den\n",
    "        secondnum = self.den * other.num\n",
    "        return firstnum == secondnum\n",
    "    \n",
    "    def __sub__(self, other):\n",
    "        newnum = self.num*other.den - self.den*other.num\n",
    "        newden = self.den*other.den\n",
    "        common = gcd(newnum, newden)\n",
    "        return Fraction(newnum//common, newden//common)\n",
    "    \n",
    "    def __mul__(self, other):\n",
    "        newnum = self.num*other.num\n",
    "        newden = self.den*other.den\n",
    "        common = gcd(newnum, newden)\n",
    "        return Fraction(newnum//common, newden//common)\n",
    "    \n",
    "    def __truediv__(self, other):\n",
    "        newnum = self.num*other.den\n",
    "        newden = self.den*other.num\n",
    "        common = gcd(newnum, newden)\n",
    "        return Fraction(newnum//common, newden//common)"
   ]
  },
  {
   "cell_type": "code",
   "execution_count": 46,
   "metadata": {},
   "outputs": [
    {
     "name": "stdout",
     "output_type": "stream",
     "text": [
      "2\n",
      "3 / 8\n",
      "3/8\n",
      "1/2\n",
      "False\n",
      "2\n",
      "-1/8\n",
      "2\n",
      "3/4\n",
      "1\n",
      "3/16\n"
     ]
    }
   ],
   "source": [
    "f1 = Fraction(3,8)\n",
    "f2 = Fraction(1,2)\n",
    "f3 = f1 + f2\n",
    "f1.show()\n",
    "print(f1)\n",
    "print(f2)\n",
    "str(f3)\n",
    "print(f1 == f2)\n",
    "print(f1 - f2)\n",
    "print(f1 / f2)\n",
    "print(f1 * f2)"
   ]
  },
  {
   "cell_type": "code",
   "execution_count": 39,
   "metadata": {
    "collapsed": true
   },
   "outputs": [],
   "source": [
    "def gcd(m,n):\n",
    "    while m%n != 0:\n",
    "        oldm = m\n",
    "        oldn = n\n",
    "        m = oldn\n",
    "        n = oldm%oldn\n",
    "    print(n)\n",
    "    return n"
   ]
  },
  {
   "cell_type": "code",
   "execution_count": 40,
   "metadata": {},
   "outputs": [
    {
     "name": "stdout",
     "output_type": "stream",
     "text": [
      "2\n"
     ]
    },
    {
     "data": {
      "text/plain": [
       "2"
      ]
     },
     "execution_count": 40,
     "metadata": {},
     "output_type": "execute_result"
    }
   ],
   "source": [
    "gcd(14,16)"
   ]
  },
  {
   "cell_type": "code",
   "execution_count": 47,
   "metadata": {},
   "outputs": [
    {
     "ename": "SyntaxError",
     "evalue": "unexpected EOF while parsing (<ipython-input-47-56fdac5571bc>, line 2)",
     "output_type": "error",
     "traceback": [
      "\u001b[0;36m  File \u001b[0;32m\"<ipython-input-47-56fdac5571bc>\"\u001b[0;36m, line \u001b[0;32m2\u001b[0m\n\u001b[0;31m    def __init__(self, n):\u001b[0m\n\u001b[0m                          ^\u001b[0m\n\u001b[0;31mSyntaxError\u001b[0m\u001b[0;31m:\u001b[0m unexpected EOF while parsing\n"
     ]
    }
   ],
   "source": [
    "class LogicGate:\n",
    "    def __init__(self, n):\n",
    "        self.label = n\n",
    "        self.output = None\n",
    "        \n",
    "    def getLabel(self):\n",
    "        return self.label\n",
    "    \n",
    "    def getOutput(self):\n",
    "        self.output = self.performGateLogic()\n",
    "        return self.output"
   ]
  },
  {
   "cell_type": "code",
   "execution_count": null,
   "metadata": {
    "collapsed": true
   },
   "outputs": [],
   "source": []
  }
 ],
 "metadata": {
  "kernelspec": {
   "display_name": "Python 3",
   "language": "python",
   "name": "python3"
  },
  "language_info": {
   "codemirror_mode": {
    "name": "ipython",
    "version": 3
   },
   "file_extension": ".py",
   "mimetype": "text/x-python",
   "name": "python",
   "nbconvert_exporter": "python",
   "pygments_lexer": "ipython3",
   "version": "3.6.1"
  }
 },
 "nbformat": 4,
 "nbformat_minor": 2
}
