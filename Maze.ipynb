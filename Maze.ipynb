{
 "cells": [
  {
   "cell_type": "code",
   "execution_count": 3,
   "metadata": {
    "collapsed": true
   },
   "outputs": [],
   "source": [
    "import turtle\n",
    "\n",
    "PART_OF_PATH = 'O'\n",
    "TRIED = '.'\n",
    "OBSTACLE = '+'\n",
    "DEAD_END = '-'\n",
    "\n",
    "class Maze:\n",
    "    def __init__(self,mazeFileName):\n",
    "        rowsInMaze = 0\n",
    "        columnsInMaze = 0\n",
    "        self.mazelist = []\n",
    "        mazeFile = open(mazeFileName,'r')\n",
    "        rowsInMaze = 0\n",
    "        for line in mazeFile:\n",
    "            rowList = []\n",
    "            col = 0\n",
    "            for ch in line[:-1]:\n",
    "                rowList.append(ch)\n",
    "                if ch == 'S':\n",
    "                    self.startRow = rowsInMaze\n",
    "                    self.startCol = col\n",
    "                col = col + 1\n",
    "            rowsInMaze = rowsInMaze + 1\n",
    "            self.mazelist.append(rowList)\n",
    "            columnsInMaze = len(rowList)\n",
    "\n",
    "        self.rowsInMaze = rowsInMaze\n",
    "        self.columnsInMaze = columnsInMaze\n",
    "        self.xTranslate = -columnsInMaze/2\n",
    "        self.yTranslate = rowsInMaze/2\n",
    "        self.t = turtle.Turtle()\n",
    "        self.t.shape('turtle')\n",
    "        self.wn = turtle.Screen()\n",
    "        self.wn.setworldcoordinates(-(columnsInMaze-1)/2-.5,-(rowsInMaze-1)/2-.5,(columnsInMaze-1)/2+.5,(rowsInMaze-1)/2+.5)\n",
    "\n",
    "    def drawMaze(self):\n",
    "        self.t.speed(10)\n",
    "        self.wn.tracer(0)\n",
    "        for y in range(self.rowsInMaze):\n",
    "            for x in range(self.columnsInMaze):\n",
    "                if self.mazelist[y][x] == OBSTACLE:\n",
    "                    self.drawCenteredBox(x+self.xTranslate,-y+self.yTranslate,'orange')\n",
    "        self.t.color('black')\n",
    "        self.t.fillcolor('blue')\n",
    "        self.wn.update()\n",
    "        self.wn.tracer(1)\n",
    "\n",
    "    def drawCenteredBox(self,x,y,color):\n",
    "        self.t.up()\n",
    "        self.t.goto(x-.5,y-.5)\n",
    "        self.t.color(color)\n",
    "        self.t.fillcolor(color)\n",
    "        self.t.setheading(90)\n",
    "        self.t.down()\n",
    "        self.t.begin_fill()\n",
    "        for i in range(4):\n",
    "            self.t.forward(1)\n",
    "            self.t.right(90)\n",
    "        self.t.end_fill()\n",
    "\n",
    "    def moveTurtle(self,x,y):\n",
    "        self.t.up()\n",
    "        self.t.setheading(self.t.towards(x+self.xTranslate,-y+self.yTranslate))\n",
    "        self.t.goto(x+self.xTranslate,-y+self.yTranslate)\n",
    "\n",
    "    def dropBreadcrumb(self,color):\n",
    "        self.t.dot(10,color)\n",
    "\n",
    "    def updatePosition(self,row,col,val=None):\n",
    "        if val:\n",
    "            self.mazelist[row][col] = val\n",
    "        self.moveTurtle(col,row)\n",
    "\n",
    "        if val == PART_OF_PATH:\n",
    "            color = 'green'\n",
    "        elif val == OBSTACLE:\n",
    "            color = 'red'\n",
    "        elif val == TRIED:\n",
    "            color = 'black'\n",
    "        elif val == DEAD_END:\n",
    "            color = 'red'\n",
    "        else:\n",
    "            color = None\n",
    "\n",
    "        if color:\n",
    "            self.dropBreadcrumb(color)\n",
    "\n",
    "    def isExit(self,row,col):\n",
    "        return (row == 0 or\n",
    "                row == self.rowsInMaze-1 or\n",
    "                col == 0 or\n",
    "                col == self.columnsInMaze-1 )\n",
    "\n",
    "    def __getitem__(self,idx):\n",
    "        return self.mazelist[idx]"
   ]
  },
  {
   "cell_type": "code",
   "execution_count": 6,
   "metadata": {
    "collapsed": true
   },
   "outputs": [],
   "source": [
    "def searchFrom(maze, startRow, startCol):\n",
    "    maze.updatePosition(startRow, startCol)\n",
    "    \n",
    "    if maze[startRow][startCol] == OBSTACLE:\n",
    "        return False\n",
    "    elif maze[startRow][startCol] == TRIED or maze[startRow][startCol] == DEAD_END:\n",
    "        return False\n",
    "    elif maze.isExit(startRow, startCol):\n",
    "        maze.updatePosition(startRow, startCol, PART_OF_PATH)\n",
    "        return True\n",
    "    \n",
    "    maze.updatePosition(startRow, startCol, TRIED)\n",
    "    \n",
    "    found = searchFrom(maze, startRow-1, startCol) or \\\n",
    "            searchFrom(maze, startRow+1, startCol) or \\\n",
    "            searchFrom(maze, startRow, startCol-1) or \\\n",
    "            searchFrom(maze, startRow, startCol+1)\n",
    "            \n",
    "    if found:\n",
    "        maze.updatePosition(startRow, startCol, PART_OF_PATH)\n",
    "    else:\n",
    "        maze.updatePosition(startRow, startCol, DEAD_END)\n",
    "        \n",
    "    return found"
   ]
  },
  {
   "cell_type": "code",
   "execution_count": 7,
   "metadata": {},
   "outputs": [
    {
     "data": {
      "text/plain": [
       "True"
      ]
     },
     "execution_count": 7,
     "metadata": {},
     "output_type": "execute_result"
    }
   ],
   "source": [
    "myMaze = Maze('/Users/yemingzhu/Documents/Coding/python/maze2.txt')\n",
    "myMaze.drawMaze()\n",
    "myMaze.updatePosition(myMaze.startRow, myMaze.startCol)\n",
    "searchFrom(myMaze, myMaze.startRow, myMaze.startCol)"
   ]
  },
  {
   "cell_type": "code",
   "execution_count": null,
   "metadata": {
    "collapsed": true
   },
   "outputs": [],
   "source": []
  }
 ],
 "metadata": {
  "kernelspec": {
   "display_name": "Python 3",
   "language": "python",
   "name": "python3"
  },
  "language_info": {
   "codemirror_mode": {
    "name": "ipython",
    "version": 3
   },
   "file_extension": ".py",
   "mimetype": "text/x-python",
   "name": "python",
   "nbconvert_exporter": "python",
   "pygments_lexer": "ipython3",
   "version": "3.6.1"
  }
 },
 "nbformat": 4,
 "nbformat_minor": 2
}
