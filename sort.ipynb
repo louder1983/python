{
 "cells": [
  {
   "cell_type": "code",
   "execution_count": 3,
   "metadata": {
    "collapsed": true
   },
   "outputs": [],
   "source": [
    "def bubbleSort(alist):\n",
    "    for lastPos in range(len(alist)-1, 0, -1):\n",
    "        for i in range(lastPos):\n",
    "            if alist[i] > alist[i+1]:\n",
    "                temp = alist[i]\n",
    "                alist[i] = alist[i+1]\n",
    "                alist[i+1] = temp"
   ]
  },
  {
   "cell_type": "code",
   "execution_count": 4,
   "metadata": {},
   "outputs": [
    {
     "name": "stdout",
     "output_type": "stream",
     "text": [
      "[17, 20, 26, 31, 44, 54, 55, 77, 93]\n"
     ]
    }
   ],
   "source": [
    "test = [54,26,93,17,77,31,44,55,20]\n",
    "bubbleSort(test)\n",
    "print(test)"
   ]
  },
  {
   "cell_type": "code",
   "execution_count": 11,
   "metadata": {
    "collapsed": true
   },
   "outputs": [],
   "source": [
    "def shortBubbleSort(alist):\n",
    "    exchanged = True\n",
    "    lastPos = len(alist)-1\n",
    "    while lastPos > 0 and exchanged:\n",
    "        exchanged = False\n",
    "        for i in range(lastPos):\n",
    "            if alist[i]>alist[i+1]:\n",
    "                exchanged = True\n",
    "                temp = alist[i]\n",
    "                alist[i] = alist[i+1]\n",
    "                alist[i+1] = temp\n",
    "        lastPos = lastPos - 1"
   ]
  },
  {
   "cell_type": "code",
   "execution_count": 12,
   "metadata": {},
   "outputs": [
    {
     "name": "stdout",
     "output_type": "stream",
     "text": [
      "[17, 20, 26, 31, 44, 54, 55, 77, 93]\n"
     ]
    }
   ],
   "source": [
    "test = [54,26,93,17,77,31,44,55,20]\n",
    "shortBubbleSort(test)\n",
    "print(test)"
   ]
  },
  {
   "cell_type": "code",
   "execution_count": 15,
   "metadata": {
    "collapsed": true
   },
   "outputs": [],
   "source": [
    "def selectSort(alist):\n",
    "    for lastPos in range(len(alist)-1, 0, -1):\n",
    "        maxPos = 0\n",
    "        for i in range(1,lastPos+1):\n",
    "            if alist[maxPos] < alist[i]:\n",
    "                maxPos = i\n",
    "        \n",
    "        temp = alist[maxPos]\n",
    "        alist[maxPos] = alist[lastPos]\n",
    "        alist[lastPos] = temp"
   ]
  },
  {
   "cell_type": "code",
   "execution_count": 16,
   "metadata": {
    "scrolled": true
   },
   "outputs": [
    {
     "name": "stdout",
     "output_type": "stream",
     "text": [
      "[17, 20, 26, 31, 44, 54, 55, 77, 93]\n"
     ]
    }
   ],
   "source": [
    "test = [54,26,93,17,77,31,44,55,20]\n",
    "selectSort(test)\n",
    "print(test)"
   ]
  },
  {
   "cell_type": "code",
   "execution_count": 19,
   "metadata": {
    "collapsed": true
   },
   "outputs": [],
   "source": [
    "def insertSort(alist):\n",
    "    for curPos in range(1, len(alist)):\n",
    "        curValue = alist[curPos]\n",
    "        idx = curPos\n",
    "        while idx > 0 and alist[idx-1] > curValue:\n",
    "            alist[idx] = alist[idx-1]\n",
    "            idx = idx - 1\n",
    "            \n",
    "        alist[idx] = curValue"
   ]
  },
  {
   "cell_type": "code",
   "execution_count": 20,
   "metadata": {},
   "outputs": [
    {
     "name": "stdout",
     "output_type": "stream",
     "text": [
      "[17, 20, 26, 31, 44, 54, 55, 77, 93]\n"
     ]
    }
   ],
   "source": [
    "test = [54,26,93,17,77,31,44,55,20]\n",
    "insertSort(test)\n",
    "print(test)"
   ]
  },
  {
   "cell_type": "code",
   "execution_count": null,
   "metadata": {
    "collapsed": true
   },
   "outputs": [],
   "source": []
  }
 ],
 "metadata": {
  "kernelspec": {
   "display_name": "Python 3",
   "language": "python",
   "name": "python3"
  },
  "language_info": {
   "codemirror_mode": {
    "name": "ipython",
    "version": 3
   },
   "file_extension": ".py",
   "mimetype": "text/x-python",
   "name": "python",
   "nbconvert_exporter": "python",
   "pygments_lexer": "ipython3",
   "version": "3.6.1"
  }
 },
 "nbformat": 4,
 "nbformat_minor": 2
}
