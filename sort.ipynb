{
 "cells": [
  {
   "cell_type": "code",
   "execution_count": 3,
   "metadata": {
    "collapsed": true
   },
   "outputs": [],
   "source": [
    "def bubbleSort(alist):\n",
    "    for lastPos in range(len(alist)-1, 0, -1):\n",
    "        for i in range(lastPos):\n",
    "            if alist[i] > alist[i+1]:\n",
    "                temp = alist[i]\n",
    "                alist[i] = alist[i+1]\n",
    "                alist[i+1] = temp"
   ]
  },
  {
   "cell_type": "code",
   "execution_count": 4,
   "metadata": {},
   "outputs": [
    {
     "name": "stdout",
     "output_type": "stream",
     "text": [
      "[17, 20, 26, 31, 44, 54, 55, 77, 93]\n"
     ]
    }
   ],
   "source": [
    "test = [54,26,93,17,77,31,44,55,20]\n",
    "bubbleSort(test)\n",
    "print(test)"
   ]
  },
  {
   "cell_type": "code",
   "execution_count": 11,
   "metadata": {
    "collapsed": true
   },
   "outputs": [],
   "source": [
    "def shortBubbleSort(alist):\n",
    "    exchanged = True\n",
    "    lastPos = len(alist)-1\n",
    "    while lastPos > 0 and exchanged:\n",
    "        exchanged = False\n",
    "        for i in range(lastPos):\n",
    "            if alist[i]>alist[i+1]:\n",
    "                exchanged = True\n",
    "                temp = alist[i]\n",
    "                alist[i] = alist[i+1]\n",
    "                alist[i+1] = temp\n",
    "        lastPos = lastPos - 1"
   ]
  },
  {
   "cell_type": "code",
   "execution_count": 12,
   "metadata": {},
   "outputs": [
    {
     "name": "stdout",
     "output_type": "stream",
     "text": [
      "[17, 20, 26, 31, 44, 54, 55, 77, 93]\n"
     ]
    }
   ],
   "source": [
    "test = [54,26,93,17,77,31,44,55,20]\n",
    "shortBubbleSort(test)\n",
    "print(test)"
   ]
  },
  {
   "cell_type": "code",
   "execution_count": 15,
   "metadata": {
    "collapsed": true
   },
   "outputs": [],
   "source": [
    "def selectSort(alist):\n",
    "    for lastPos in range(len(alist)-1, 0, -1):\n",
    "        maxPos = 0\n",
    "        for i in range(1,lastPos+1):\n",
    "            if alist[maxPos] < alist[i]:\n",
    "                maxPos = i\n",
    "        \n",
    "        temp = alist[maxPos]\n",
    "        alist[maxPos] = alist[lastPos]\n",
    "        alist[lastPos] = temp"
   ]
  },
  {
   "cell_type": "code",
   "execution_count": 16,
   "metadata": {
    "scrolled": true
   },
   "outputs": [
    {
     "name": "stdout",
     "output_type": "stream",
     "text": [
      "[17, 20, 26, 31, 44, 54, 55, 77, 93]\n"
     ]
    }
   ],
   "source": [
    "test = [54,26,93,17,77,31,44,55,20]\n",
    "selectSort(test)\n",
    "print(test)"
   ]
  },
  {
   "cell_type": "code",
   "execution_count": 19,
   "metadata": {
    "collapsed": true
   },
   "outputs": [],
   "source": [
    "def insertSort(alist):\n",
    "    for curPos in range(1, len(alist)):\n",
    "        curValue = alist[curPos]\n",
    "        idx = curPos\n",
    "        while idx > 0 and alist[idx-1] > curValue:\n",
    "            alist[idx] = alist[idx-1]\n",
    "            idx = idx - 1\n",
    "            \n",
    "        alist[idx] = curValue"
   ]
  },
  {
   "cell_type": "code",
   "execution_count": 20,
   "metadata": {},
   "outputs": [
    {
     "name": "stdout",
     "output_type": "stream",
     "text": [
      "[17, 20, 26, 31, 44, 54, 55, 77, 93]\n"
     ]
    }
   ],
   "source": [
    "test = [54,26,93,17,77,31,44,55,20]\n",
    "insertSort(test)\n",
    "print(test)"
   ]
  },
  {
   "cell_type": "code",
   "execution_count": 21,
   "metadata": {
    "collapsed": true
   },
   "outputs": [],
   "source": [
    "def shellSort(alist):\n",
    "    gap = len(alist) // 2\n",
    "    while gap > 0:\n",
    "        for start in range(gap):\n",
    "            gapInsertSort(alist, start, gap)\n",
    "            \n",
    "        gap = gap // 2\n",
    "\n",
    "def gapInsertSort(alist, start, gap):\n",
    "    for curPos in range(start+gap, len(alist), gap):\n",
    "        curValue = alist[curPos]\n",
    "        idx = curPos\n",
    "        while idx >= gap and alist[idx-gap] > curValue:\n",
    "            alist[idx] = alist[idx-gap]\n",
    "            idx = idx - gap\n",
    "            \n",
    "        alist[idx] = curValue"
   ]
  },
  {
   "cell_type": "code",
   "execution_count": 22,
   "metadata": {},
   "outputs": [
    {
     "name": "stdout",
     "output_type": "stream",
     "text": [
      "[17, 20, 26, 31, 44, 54, 55, 77, 93]\n"
     ]
    }
   ],
   "source": [
    "test = [54,26,93,17,77,31,44,55,20]\n",
    "selectSort(test)\n",
    "print(test)"
   ]
  },
  {
   "cell_type": "code",
   "execution_count": 23,
   "metadata": {
    "collapsed": true
   },
   "outputs": [],
   "source": [
    "def mergeSort(alist):\n",
    "    if len(alist) > 1:\n",
    "        mid = len(alist) // 2\n",
    "        lefthalf = alist[:mid]\n",
    "        righthalf = alist[mid:]\n",
    "        \n",
    "        mergeSort(lefthalf)\n",
    "        mergeSort(righthalf)\n",
    "        \n",
    "        i=0\n",
    "        j=0\n",
    "        k=0\n",
    "        \n",
    "        while i < len(lefthalf) and j < len(righthalf):\n",
    "            if lefthalf[i] > righthalf[j]:\n",
    "                alist[k] = righthalf[j]\n",
    "                j = j + 1\n",
    "            else:\n",
    "                alist[k] = lefthalf[i]\n",
    "                i = i + 1\n",
    "            k = k + 1\n",
    "        \n",
    "        while i < len(lefthalf):\n",
    "            alist[k] = lefthalf[i]\n",
    "            i = i + 1\n",
    "            k = k + 1\n",
    "        \n",
    "        while j < len(righthalf):\n",
    "            alist[k] = righthalf[j]\n",
    "            j = j + 1\n",
    "            k = k + 1"
   ]
  },
  {
   "cell_type": "code",
   "execution_count": 24,
   "metadata": {},
   "outputs": [
    {
     "name": "stdout",
     "output_type": "stream",
     "text": [
      "[17, 20, 26, 31, 44, 54, 55, 77, 93]\n"
     ]
    }
   ],
   "source": [
    "test = [54,26,93,17,77,31,44,55,20]\n",
    "selectSort(test)\n",
    "print(test)"
   ]
  },
  {
   "cell_type": "code",
   "execution_count": 25,
   "metadata": {
    "collapsed": true
   },
   "outputs": [],
   "source": [
    "def quickSort(alist):\n",
    "    quickSortHelper(alist, 0, len(alist)-1)\n",
    "    \n",
    "def quickSortHelper(alist, start, end):\n",
    "    \n",
    "    splitPoint = patition(alist, start, end)\n",
    "    quickSortHelper(alist, start, splitPoint-1)\n",
    "    quickSortHelper(alist, splitPoint, end)\n",
    "    \n",
    "def patition(alist, start, end):\n",
    "    pivot = alist[start]\n",
    "    \n",
    "    leftmark = start + 1\n",
    "    rightmark = end\n",
    "    \n",
    "    done = False\n",
    "    while not done:\n",
    "        \n",
    "        while leftmark <= rightmark and alist[leftmark] <= pivot:\n",
    "            leftmark = leftmark + 1\n",
    "        while alist[rightmark] >= pivot and rightmark >= leftmark:\n",
    "            rightmark = rightmark - 1\n",
    "            \n",
    "        if rightmark < leftmark:\n",
    "            done = True\n",
    "        else:\n",
    "            temp = alist[rightmark]\n",
    "            alist[rightmark] = alist[leftmark]\n",
    "            alist[leftmark] = temp\n",
    "            \n",
    "    temp = alist[start]\n",
    "    alist[start] = alist[rightmark]\n",
    "    alist[rightmark] = temp\n",
    "    \n",
    "    return rightmark"
   ]
  },
  {
   "cell_type": "code",
   "execution_count": 26,
   "metadata": {},
   "outputs": [
    {
     "name": "stdout",
     "output_type": "stream",
     "text": [
      "[17, 20, 26, 31, 44, 54, 55, 77, 93]\n"
     ]
    }
   ],
   "source": [
    "test = [54,26,93,17,77,31,44,55,20]\n",
    "selectSort(test)\n",
    "print(test)"
   ]
  },
  {
   "cell_type": "code",
   "execution_count": null,
   "metadata": {
    "collapsed": true
   },
   "outputs": [],
   "source": []
  }
 ],
 "metadata": {
  "kernelspec": {
   "display_name": "Python 3",
   "language": "python",
   "name": "python3"
  },
  "language_info": {
   "codemirror_mode": {
    "name": "ipython",
    "version": 3
   },
   "file_extension": ".py",
   "mimetype": "text/x-python",
   "name": "python",
   "nbconvert_exporter": "python",
   "pygments_lexer": "ipython3",
   "version": "3.6.1"
  }
 },
 "nbformat": 4,
 "nbformat_minor": 2
}
