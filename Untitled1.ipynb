{
 "cells": [
  {
   "cell_type": "code",
   "execution_count": 9,
   "metadata": {
    "collapsed": true
   },
   "outputs": [],
   "source": [
    "def minCoin(coinList, tarValue, minMount, coinsUsed):\n",
    "    for value in range(tarValue+1):\n",
    "        coinMount = value\n",
    "        newCoin = coinList[0]\n",
    "        for j in [c for c in coinList if c <= value]:\n",
    "            if minMount[value-j] + 1 < coinMount:\n",
    "                coinMount = minMount[value-j] + 1\n",
    "                newCoin = j\n",
    "        minMount[value] = coinMount\n",
    "        coinsUsed[value] = newCoin\n",
    "    return minMount[tarValue]\n",
    "\n",
    "def main():\n",
    "    amount = 37\n",
    "    coinlist = [1,5,10,21,25]\n",
    "    coinsUsed = [0]*(amount+1)\n",
    "    coinCount = [0]*(amount+1)\n",
    "    \n",
    "    print(minCoin(coinlist, amount, coinCount, coinsUsed), \"coins\")"
   ]
  },
  {
   "cell_type": "code",
   "execution_count": 10,
   "metadata": {
    "scrolled": true
   },
   "outputs": [
    {
     "name": "stdout",
     "output_type": "stream",
     "text": [
      "4 coins\n"
     ]
    }
   ],
   "source": [
    "main()"
   ]
  },
  {
   "cell_type": "code",
   "execution_count": 11,
   "metadata": {},
   "outputs": [
    {
     "data": {
      "text/plain": [
       "False"
      ]
     },
     "execution_count": 11,
     "metadata": {},
     "output_type": "execute_result"
    }
   ],
   "source": [
    "15 in[2,3,35,21,64,24234]"
   ]
  },
  {
   "cell_type": "code",
   "execution_count": null,
   "metadata": {
    "collapsed": true
   },
   "outputs": [],
   "source": []
  }
 ],
 "metadata": {
  "kernelspec": {
   "display_name": "Python 3",
   "language": "python",
   "name": "python3"
  },
  "language_info": {
   "codemirror_mode": {
    "name": "ipython",
    "version": 3
   },
   "file_extension": ".py",
   "mimetype": "text/x-python",
   "name": "python",
   "nbconvert_exporter": "python",
   "pygments_lexer": "ipython3",
   "version": "3.6.1"
  }
 },
 "nbformat": 4,
 "nbformat_minor": 2
}
