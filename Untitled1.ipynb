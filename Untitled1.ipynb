{
 "cells": [
  {
   "cell_type": "code",
   "execution_count": 5,
   "metadata": {
    "collapsed": true
   },
   "outputs": [],
   "source": [
    "from pythonds.basic.queue import Queue\n",
    "\n",
    "class Stack:\n",
    "    def __init__(self):\n",
    "        self.stack = Queue()\n",
    "        \n",
    "    def push(self, x):\n",
    "        self.stack.enqueue(x)\n",
    "        \n",
    "    def pop(self):\n",
    "        length = self.stack.size()\n",
    "        for i in range(length-1):\n",
    "            self.stack.enqueue(self.stack.dequeue())\n",
    "        return self.stack.dequeue()\n",
    "    \n",
    "    def top(self):\n",
    "        length = self.stack.size()\n",
    "        for i in range(length):\n",
    "            reValue = self.stack.dequeue()\n",
    "            self.stack.enqueue(reValue)\n",
    "        return reValue\n",
    "    \n",
    "    def empty(self):\n",
    "        return self.stack.isEmpty()"
   ]
  },
  {
   "cell_type": "code",
   "execution_count": 6,
   "metadata": {
    "scrolled": true
   },
   "outputs": [
    {
     "name": "stdout",
     "output_type": "stream",
     "text": [
      "<__main__.Stack object at 0x10f529c18>\n",
      "<__main__.Stack object at 0x10f529c18>\n",
      "5\n",
      "False\n",
      "4\n",
      "False\n",
      "4\n",
      "True\n"
     ]
    }
   ],
   "source": [
    "s = Stack()\n",
    "s.push(4)\n",
    "print(s)\n",
    "s.push(5)\n",
    "print(s)\n",
    "print(s.pop())\n",
    "print(s.empty())\n",
    "print(s.top())\n",
    "print(s.empty())\n",
    "print(s.pop())\n",
    "print(s.empty())"
   ]
  },
  {
   "cell_type": "code",
   "execution_count": 11,
   "metadata": {},
   "outputs": [
    {
     "data": {
      "text/plain": [
       "False"
      ]
     },
     "execution_count": 11,
     "metadata": {},
     "output_type": "execute_result"
    }
   ],
   "source": [
    "15 in[2,3,35,21,64,24234]"
   ]
  },
  {
   "cell_type": "code",
   "execution_count": 14,
   "metadata": {
    "collapsed": true
   },
   "outputs": [],
   "source": [
    "    def convertToBase7(num):\n",
    "        res = []\n",
    "        sign = 1\n",
    "        if num < 0:\n",
    "            sign = -1\n",
    "            num = num*(-1)\n",
    "        while num > 0:\n",
    "            res.append(num % 7)\n",
    "            print(res)\n",
    "            num = num // 7\n",
    "        res.reverse()\n",
    "        str1 = ''.join(str(x) for x in res)\n",
    "        if sign == -1:\n",
    "            return '-'+ str1\n",
    "        else:\n",
    "            return str1"
   ]
  },
  {
   "cell_type": "code",
   "execution_count": 18,
   "metadata": {
    "scrolled": true
   },
   "outputs": [
    {
     "name": "stdout",
     "output_type": "stream",
     "text": [
      "[0]\n",
      "[0, 0]\n",
      "[0, 0, 1]\n"
     ]
    },
    {
     "data": {
      "text/plain": [
       "'100'"
      ]
     },
     "execution_count": 18,
     "metadata": {},
     "output_type": "execute_result"
    }
   ],
   "source": [
    "convertToBase7(49)"
   ]
  },
  {
   "cell_type": "code",
   "execution_count": 24,
   "metadata": {},
   "outputs": [],
   "source": [
    "def canPlaceFlowers(flowerbed, n):\n",
    "    count = 0\n",
    "    if len(flowerbed) == 1 and flowerbed[0] == 0:\n",
    "        count=1\n",
    "    else:            \n",
    "        m = len(flowerbed)\n",
    "        for i in range(0, m):\n",
    "            if i-1>=0 and i+1<m:\n",
    "                if flowerbed[i] == 0 and flowerbed[i-1] == 0 and flowerbed[i+1] == 0:\n",
    "                    flowerbed[i] = 1\n",
    "                    count = count + 1\n",
    "            else:\n",
    "                if i == 0:\n",
    "                    if flowerbed[i] == 0 and flowerbed[i+1] == 0:\n",
    "                        flowerbed[i] = 1\n",
    "                        count = count + 1\n",
    "                if i == m-1:\n",
    "                    if flowerbed[i] == 0 and flowerbed[i-1] == 0:\n",
    "                        flowerbed[i] = 1\n",
    "                        count = count + 1\n",
    "            print(flowerbed)\n",
    "            print(count)\n",
    "    return count>=n"
   ]
  },
  {
   "cell_type": "code",
   "execution_count": 25,
   "metadata": {},
   "outputs": [
    {
     "name": "stdout",
     "output_type": "stream",
     "text": [
      "[1, 0, 0, 0, 0, 1]\n",
      "0\n",
      "[1, 0, 0, 0, 0, 1]\n",
      "0\n",
      "[1, 0, 1, 0, 0, 1]\n",
      "1\n",
      "[1, 0, 1, 0, 0, 1]\n",
      "1\n",
      "[1, 0, 1, 0, 0, 1]\n",
      "1\n",
      "[1, 0, 1, 0, 0, 1]\n",
      "1\n"
     ]
    },
    {
     "data": {
      "text/plain": [
       "False"
      ]
     },
     "execution_count": 25,
     "metadata": {},
     "output_type": "execute_result"
    }
   ],
   "source": [
    "flowerbed = [1,0,0,0,0,1]\n",
    "n=2\n",
    "canPlaceFlowers(flowerbed, n)"
   ]
  },
  {
   "cell_type": "code",
   "execution_count": null,
   "metadata": {
    "collapsed": true
   },
   "outputs": [],
   "source": []
  }
 ],
 "metadata": {
  "kernelspec": {
   "display_name": "Python 3",
   "language": "python",
   "name": "python3"
  },
  "language_info": {
   "codemirror_mode": {
    "name": "ipython",
    "version": 3
   },
   "file_extension": ".py",
   "mimetype": "text/x-python",
   "name": "python",
   "nbconvert_exporter": "python",
   "pygments_lexer": "ipython3",
   "version": "3.6.1"
  }
 },
 "nbformat": 4,
 "nbformat_minor": 2
}
