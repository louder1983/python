{
 "cells": [
  {
   "cell_type": "code",
   "execution_count": 5,
   "metadata": {
    "collapsed": true
   },
   "outputs": [],
   "source": [
    "from pythonds.basic.queue import Queue\n",
    "\n",
    "class Stack:\n",
    "    def __init__(self):\n",
    "        self.stack = Queue()\n",
    "        \n",
    "    def push(self, x):\n",
    "        self.stack.enqueue(x)\n",
    "        \n",
    "    def pop(self):\n",
    "        length = self.stack.size()\n",
    "        for i in range(length-1):\n",
    "            self.stack.enqueue(self.stack.dequeue())\n",
    "        return self.stack.dequeue()\n",
    "    \n",
    "    def top(self):\n",
    "        length = self.stack.size()\n",
    "        for i in range(length):\n",
    "            reValue = self.stack.dequeue()\n",
    "            self.stack.enqueue(reValue)\n",
    "        return reValue\n",
    "    \n",
    "    def empty(self):\n",
    "        return self.stack.isEmpty()"
   ]
  },
  {
   "cell_type": "code",
   "execution_count": 6,
   "metadata": {
    "scrolled": true
   },
   "outputs": [
    {
     "name": "stdout",
     "output_type": "stream",
     "text": [
      "<__main__.Stack object at 0x10f529c18>\n",
      "<__main__.Stack object at 0x10f529c18>\n",
      "5\n",
      "False\n",
      "4\n",
      "False\n",
      "4\n",
      "True\n"
     ]
    }
   ],
   "source": [
    "s = Stack()\n",
    "s.push(4)\n",
    "print(s)\n",
    "s.push(5)\n",
    "print(s)\n",
    "print(s.pop())\n",
    "print(s.empty())\n",
    "print(s.top())\n",
    "print(s.empty())\n",
    "print(s.pop())\n",
    "print(s.empty())"
   ]
  },
  {
   "cell_type": "code",
   "execution_count": 11,
   "metadata": {},
   "outputs": [
    {
     "data": {
      "text/plain": [
       "False"
      ]
     },
     "execution_count": 11,
     "metadata": {},
     "output_type": "execute_result"
    }
   ],
   "source": [
    "15 in[2,3,35,21,64,24234]"
   ]
  },
  {
   "cell_type": "code",
   "execution_count": null,
   "metadata": {
    "collapsed": true
   },
   "outputs": [],
   "source": []
  }
 ],
 "metadata": {
  "kernelspec": {
   "display_name": "Python 3",
   "language": "python",
   "name": "python3"
  },
  "language_info": {
   "codemirror_mode": {
    "name": "ipython",
    "version": 3
   },
   "file_extension": ".py",
   "mimetype": "text/x-python",
   "name": "python",
   "nbconvert_exporter": "python",
   "pygments_lexer": "ipython3",
   "version": "3.6.1"
  }
 },
 "nbformat": 4,
 "nbformat_minor": 2
}
